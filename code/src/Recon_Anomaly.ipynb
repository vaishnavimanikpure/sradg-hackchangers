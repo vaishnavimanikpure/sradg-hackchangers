{
 "cells": [
  {
   "cell_type": "code",
   "execution_count": 5,
   "id": "101f3b86",
   "metadata": {},
   "outputs": [],
   "source": [
    "import numpy as np\n",
    "import pandas as pd\n",
    "from sklearn.ensemble import IsolationForest\n",
    "import matplotlib.pyplot as plt\n"
   ]
  },
  {
   "cell_type": "code",
   "execution_count": 9,
   "id": "adc954cb",
   "metadata": {},
   "outputs": [],
   "source": [
    "history_df = pd.read_csv('data\\historical_reconciliation_data.csv')\n"
   ]
  },
  {
   "cell_type": "code",
   "execution_count": 10,
   "id": "baf80307",
   "metadata": {},
   "outputs": [
    {
     "data": {
      "text/html": [
       "<div>\n",
       "<style scoped>\n",
       "    .dataframe tbody tr th:only-of-type {\n",
       "        vertical-align: middle;\n",
       "    }\n",
       "\n",
       "    .dataframe tbody tr th {\n",
       "        vertical-align: top;\n",
       "    }\n",
       "\n",
       "    .dataframe thead th {\n",
       "        text-align: right;\n",
       "    }\n",
       "</style>\n",
       "<table border=\"1\" class=\"dataframe\">\n",
       "  <thead>\n",
       "    <tr style=\"text-align: right;\">\n",
       "      <th></th>\n",
       "      <th>As of Date</th>\n",
       "      <th>Company</th>\n",
       "      <th>Account</th>\n",
       "      <th>AU</th>\n",
       "      <th>Currency</th>\n",
       "      <th>Primary Account</th>\n",
       "      <th>Secondary Account</th>\n",
       "      <th>GL Balance</th>\n",
       "      <th>iHub Balance</th>\n",
       "      <th>Balance Difference</th>\n",
       "      <th>Match Status</th>\n",
       "    </tr>\n",
       "  </thead>\n",
       "  <tbody>\n",
       "    <tr>\n",
       "      <th>0</th>\n",
       "      <td>22-03-2022</td>\n",
       "      <td>2</td>\n",
       "      <td>791584</td>\n",
       "      <td>4929</td>\n",
       "      <td>GBP</td>\n",
       "      <td>ALL OTHER PRINCIPAL</td>\n",
       "      <td>ALL OTHER DEFERRED</td>\n",
       "      <td>88680</td>\n",
       "      <td>88680</td>\n",
       "      <td>0</td>\n",
       "      <td>Match</td>\n",
       "    </tr>\n",
       "    <tr>\n",
       "      <th>1</th>\n",
       "      <td>23-03-2022</td>\n",
       "      <td>1</td>\n",
       "      <td>521127</td>\n",
       "      <td>62695</td>\n",
       "      <td>EUR</td>\n",
       "      <td>ALL OTHER DEFERRED</td>\n",
       "      <td>ALL OTHER PRINCIPAL</td>\n",
       "      <td>96017</td>\n",
       "      <td>96017</td>\n",
       "      <td>0</td>\n",
       "      <td>Match</td>\n",
       "    </tr>\n",
       "    <tr>\n",
       "      <th>2</th>\n",
       "      <td>24-03-2022</td>\n",
       "      <td>0</td>\n",
       "      <td>221956</td>\n",
       "      <td>4398</td>\n",
       "      <td>EUR</td>\n",
       "      <td>ALL OTHER PRINCIPAL</td>\n",
       "      <td>ALL OTHER DEFERRED</td>\n",
       "      <td>13967</td>\n",
       "      <td>13967</td>\n",
       "      <td>0</td>\n",
       "      <td>Match</td>\n",
       "    </tr>\n",
       "    <tr>\n",
       "      <th>3</th>\n",
       "      <td>25-03-2022</td>\n",
       "      <td>0</td>\n",
       "      <td>926960</td>\n",
       "      <td>62695</td>\n",
       "      <td>EUR</td>\n",
       "      <td>ALL OTHER PRINCIPAL</td>\n",
       "      <td>ALL OTHER DEFERRED</td>\n",
       "      <td>3182</td>\n",
       "      <td>88316</td>\n",
       "      <td>-85134</td>\n",
       "      <td>Break</td>\n",
       "    </tr>\n",
       "    <tr>\n",
       "      <th>4</th>\n",
       "      <td>25-03-2022</td>\n",
       "      <td>0</td>\n",
       "      <td>221956</td>\n",
       "      <td>4398</td>\n",
       "      <td>EUR</td>\n",
       "      <td>ALL OTHER PRINCIPAL</td>\n",
       "      <td>ALL OTHER DEFERRED</td>\n",
       "      <td>66435</td>\n",
       "      <td>49472</td>\n",
       "      <td>16963</td>\n",
       "      <td>Break</td>\n",
       "    </tr>\n",
       "  </tbody>\n",
       "</table>\n",
       "</div>"
      ],
      "text/plain": [
       "   As of Date  Company  Account     AU Currency      Primary Account  \\\n",
       "0  22-03-2022        2   791584   4929      GBP  ALL OTHER PRINCIPAL   \n",
       "1  23-03-2022        1   521127  62695      EUR   ALL OTHER DEFERRED   \n",
       "2  24-03-2022        0   221956   4398      EUR  ALL OTHER PRINCIPAL   \n",
       "3  25-03-2022        0   926960  62695      EUR  ALL OTHER PRINCIPAL   \n",
       "4  25-03-2022        0   221956   4398      EUR  ALL OTHER PRINCIPAL   \n",
       "\n",
       "     Secondary Account  GL Balance  iHub Balance  Balance Difference  \\\n",
       "0   ALL OTHER DEFERRED       88680         88680                   0   \n",
       "1  ALL OTHER PRINCIPAL       96017         96017                   0   \n",
       "2   ALL OTHER DEFERRED       13967         13967                   0   \n",
       "3   ALL OTHER DEFERRED        3182         88316              -85134   \n",
       "4   ALL OTHER DEFERRED       66435         49472               16963   \n",
       "\n",
       "  Match Status  \n",
       "0        Match  \n",
       "1        Match  \n",
       "2        Match  \n",
       "3        Break  \n",
       "4        Break  "
      ]
     },
     "execution_count": 10,
     "metadata": {},
     "output_type": "execute_result"
    }
   ],
   "source": [
    "history_df.head()"
   ]
  },
  {
   "cell_type": "code",
   "execution_count": 16,
   "id": "d64dac61",
   "metadata": {},
   "outputs": [
    {
     "data": {
      "text/plain": [
       "<AxesSubplot:xlabel='Company'>"
      ]
     },
     "execution_count": 16,
     "metadata": {},
     "output_type": "execute_result"
    },
    {
     "data": {
      "image/png": "[encoded data removed]",
      "text/plain": [
       "<Figure size 432x288 with 1 Axes>"
      ]
     },
     "metadata": {
      "needs_background": "light"
     },
     "output_type": "display_data"
    }
   ],
   "source": [
    "history_df.groupby(history_df.Company).count().plot(kind='bar')"
   ]
  },
  {
   "cell_type": "code",
   "execution_count": null,
   "id": "a113b4f5",
   "metadata": {},
   "outputs": [],
   "source": []
  },
  {
   "cell_type": "code",
   "execution_count": null,
   "id": "68185a20",
   "metadata": {},
   "outputs": [],
   "source": []
  },
  {
   "cell_type": "code",
   "execution_count": null,
   "id": "6a26aa73",
   "metadata": {},
   "outputs": [],
   "source": []
  },
  {
   "cell_type": "code",
   "execution_count": null,
   "id": "ee1d38c9",
   "metadata": {},
   "outputs": [],
   "source": []
  },
  {
   "cell_type": "code",
   "execution_count": null,
   "id": "2bfb0129",
   "metadata": {},
   "outputs": [],
   "source": []
  }
 ],
 "metadata": {
  "kernelspec": {
   "display_name": "Python 3 (ipykernel)",
   "language": "python",
   "name": "python3"
  },
  "language_info": {
   "codemirror_mode": {
    "name": "ipython",
    "version": 3
   },
   "file_extension": ".py",
   "mimetype": "text/x-python",
   "name": "python",
   "nbconvert_exporter": "python",
   "pygments_lexer": "ipython3",
   "version": "3.9.12"
  }
 },
 "nbformat": 4,
 "nbformat_minor": 5
}
